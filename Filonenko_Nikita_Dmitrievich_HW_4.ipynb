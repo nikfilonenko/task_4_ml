{
 "cells": [
  {
   "cell_type": "markdown",
   "source": [
    "# Выполнил: Филоненко Никита Дмитриевич\n",
    "\n",
    "-----"
   ],
   "metadata": {
    "collapsed": false
   }
  },
  {
   "cell_type": "markdown",
   "metadata": {
    "id": "cRsFk7W25FJr"
   },
   "source": [
    "# **Домашнее задание 4 (pro): древесные алгоритмы**"
   ]
  },
  {
   "cell_type": "markdown",
   "metadata": {
    "id": "W7_vr1PS5FJv"
   },
   "source": [
    "### **Постановка задач**\n",
    "\n",
    "### **Домашнее задание состоит из двух подзадач:**\n",
    "\n",
    "**1. В  разделе 1 ваша задача:**\n",
    "-  реализовать свое решающее дерево\n",
    "- сравнить его со стандартной имплементацией из sklearn\n",
    "\n",
    "Функции и классы дерева вы должны оформить в модуль `hw4_code_pro.py`.\n",
    "\n",
    "**2. В разделе два ваша задача:** решить задачу бинарной классификации при помощи написанного Вами дерева, а также леса из sklearn, а после интерпретировать лучшие модели. Чуть точнее\n",
    "\n",
    "- Извлечь данные из базы данных;\n",
    "- Предобработать датасет;\n",
    "- Обучить собственный класс DT, а также RF из `sklearn` в как базовом варианте (гиперпараметры по умолчанию), так и с подбором гиперпараметров;\n",
    "- Интерпретировать алгоритмы при помощи LIME или SHAP.\n",
    "\n",
    "\n",
    "### **Оценивание:**\n",
    "\n",
    "- Как всегда оцениваются как код, так и ответы на вопросы. Если нет одного и/или другого, то часть баллов за соответствующее задание без колебаний снимается.\n",
    "- Брать код из открытых источников позволительно. Следование культуре цитирования **обязательно.**\n",
    "- Задание выполняется самостоятельно. «Похожие» решения считаются плагиатом и все задействованные студенты (в том числе те, у кого списали) не могут получить за него больше 0 баллов.\n",
    "- Неэффективная реализация кода может негативно отразиться на оценке.\n",
    "\n",
    "### **Формат сдачи:**\n",
    "Задания сдаются через  anytask. Посылка должна содержать:\n",
    "* Ноутбук в формате ipynb\n",
    "* Модуль hw4_code_pro.py\n",
    "\n",
    "\n",
    "### **Баллы:**\n",
    "\n",
    "Суммарно за задание можно получить 10 основных баллов и 1 бонусный балло.\n",
    "\n",
    "Оценка за ДЗ = min{ваш балл, 10}\n",
    "\n",
    "Мягкий дедлайн: 2 февраля 23:59\n",
    "\n",
    "**Продуктивной и интересной вам работы!**\n"
   ]
  },
  {
   "cell_type": "code",
   "execution_count": 3,
   "metadata": {
    "id": "hvi_zUIt5FJw",
    "ExecuteTime": {
     "end_time": "2025-01-27T10:14:08.175036300Z",
     "start_time": "2025-01-27T10:14:08.153032Z"
    }
   },
   "outputs": [],
   "source": [
    "import numpy as np\n",
    "import matplotlib.pyplot as plt\n",
    "from sklearn.tree import DecisionTreeClassifier\n",
    "from matplotlib.colors import Colormap, ListedColormap\n",
    "import pandas as pd\n",
    "from sklearn.model_selection import train_test_split\n",
    "import seaborn as sns\n",
    "sns.set(style='whitegrid')\n",
    "\n",
    "import psycopg2\n",
    "import psycopg2.extras\n",
    "\n",
    "import shap\n",
    "import lime\n",
    "import lime.lime_tabular\n",
    "\n",
    "import optuna\n",
    "\n",
    "import pickle\n",
    "\n",
    "import warnings\n",
    "warnings.filterwarnings('ignore')"
   ]
  },
  {
   "cell_type": "markdown",
   "metadata": {
    "id": "TT6Dt8av5FJ0"
   },
   "source": [
    "# **1. Решающие деревья своими руками (6 баллов)**"
   ]
  },
  {
   "cell_type": "markdown",
   "metadata": {
    "id": "tAMveyqq5FJ0"
   },
   "source": [
    "В этой части вам нужно реализовать свой класс для обучения решающего дерева в задаче бинарной классификации с возможностью обработки вещественных и категориальных признаков.\n",
    "\n",
    "Всего за часть вы можете получить 6 основных баллов и 1 бонусный."
   ]
  },
  {
   "cell_type": "markdown",
   "metadata": {
    "id": "wIhluT7-5FJ0"
   },
   "source": [
    "### **Задание 1. (1 балл)**\n",
    "\n",
    "Реализуйте функцию find_best_split из модуля hw4_code_pro.py"
   ]
  },
  {
   "cell_type": "code",
   "source": [
    "from hw4_code_pro import find_best_split"
   ],
   "metadata": {
    "id": "YU4om2GuUdrK"
   },
   "execution_count": null,
   "outputs": []
  },
  {
   "cell_type": "markdown",
   "metadata": {
    "id": "-ypIuGqX5FJ1"
   },
   "source": [
    "### **Задание 2. (0.25 балла)**\n",
    "\n",
    "Загрузите таблицу [students.csv](https://github.com/AnastasiyaMax/MLDS_ml_course_fall21/blob/main/hw/hw5_trees/students.csv). Это немного преобразованный датасет [User Knowledge](https://archive.ics.uci.edu/ml/datasets/User+Knowledge+Modeling).\n",
    "\n",
    "В наборе данных:\n",
    "- признаки объекта записаны в первых пяти столбцах;\n",
    "- в последнем записана целевая переменная (класс: 0 или 1).\n",
    "\n",
    "По этим данным, используя функцию из задания 1, постройте:\n",
    "- пять кривых \"порог — значение критерия Джини\" для всех пяти признаков;\n",
    "- scatter-графики \"значение признака — класс\" для всех пяти признаков;"
   ]
  },
  {
   "cell_type": "code",
   "execution_count": null,
   "metadata": {
    "id": "IonknjIw5FJ1"
   },
   "outputs": [],
   "source": [
    "data = pd.read_csv(\"/data/students.csv\", sep=\",\")"
   ]
  },
  {
   "cell_type": "markdown",
   "metadata": {
    "id": "oZZI1mC05FJ1"
   },
   "source": [
    "### **Задание 3. (0.6 балла)**\n",
    "\n",
    "Проанализируйтте построенные кривые. Ответьте на поставленные вопросы:\n",
    "- По какому признаку нужно производить деление выборки на два поддерева? (0.15 балла)\n",
    "- Согласуется ли этот результат с визуальной оценкой scatter-графиков? (0.15 балла)\n",
    "- Как бы охарактеризовали вид кривой для \"хороших\" признаков, по которым выборка делится почти идеально? (0.15 балла)\n",
    "- Чем отличаются кривые для признаков, по которым деление практически невозможно? (0.15 балла)"
   ]
  },
  {
   "cell_type": "markdown",
   "metadata": {
    "id": "KlzC3FzG5FJ1"
   },
   "source": [
    "**Ответ:**"
   ]
  },
  {
   "cell_type": "markdown",
   "metadata": {
    "id": "yeC7XP5b5FJ1"
   },
   "source": [
    "### **Задание 4. (1.15 балла)**\n",
    "\n",
    "В некоторых случаях необходимо анализировать код исполненного класса на предмет оптимальности и ошибок. Потренируйтесь в этом!\n",
    "\n",
    "- Разберитесь с уже написанным кодом в классе DecisionTree модуля hw4_code_pro.py.\n",
    "- Найдите ошибки в реализации метода \\_fit_node.\n",
    "- Напишите функцию \\_predict_node.\n",
    "\n",
    "**Примечание 1:**\n",
    "\n",
    "Построение дерева осуществляется согласно базовому жадному алгоритму, предложенному в [лекции](https://github.com/esokolov/ml-course-hse/blob/master/2020-fall/lecture-notes/lecture07-trees.pdf) в разделе «Построение дерева».\n",
    "- Для категориальных признаков выполняется преобразование, описанное в лекции в разделе «Учет категориальных признаков».\n",
    "\n",
    "**Примечание 2:**\n",
    "\n",
    "- Выбор лучшего разбиения необходимо производить по критерию Джини.\n",
    "- Критерий останова: все объекты в листе относятся к одному классу или ни по одному признаку нельзя разбить выборку, чтобы Джини упал\n",
    "- Ответ в листе: наиболее часто встречающийся класс в листе.\n"
   ]
  },
  {
   "cell_type": "markdown",
   "metadata": {
    "id": "Hyg0sM4q5FJ1"
   },
   "source": [
    "### **Задание 5. (0.5 балла)**\n",
    "\n",
    "Протестируйте свое решающее дерево на датасете [mushrooms](https://archive.ics.uci.edu/ml/datasets/Mushroom). Для этого:\n",
    "\n",
    "- Скачайте таблицу agaricus-lepiota.data (из [Data Folder](https://archive.ics.uci.edu/ml/machine-learning-databases/mushroom/))\n",
    "- Прочитайте данные с помощью pandas\n",
    "- Примените к каждому столбцу LabelEncoder (из sklearn), чтобы преобразовать строковые имена категорий в натуральные числа.\n",
    "- Обучите решающее дерево на половине случайно выбранных объектов (признаки в датасете категориальные)\n",
    "- Сделайте предсказания для оставшейся половины.\n",
    "- Вычислите accuracy (так как мы используем эту метрику и в силу задачи, нам не очень важно, что будет классом 1, а что — классом 0).  \n",
    "\n",
    "\n",
    "У вас должно получиться значение accuracy, равное единице (или очень близкое к единице), и не очень глубокое дерево."
   ]
  },
  {
   "cell_type": "code",
   "execution_count": null,
   "metadata": {
    "id": "B1JEbOP_5FJ2"
   },
   "outputs": [],
   "source": [
    "# Ваш код здесь\n"
   ]
  },
  {
   "cell_type": "markdown",
   "metadata": {
    "id": "FsCuZ99m5FJ2"
   },
   "source": [
    "### **Задание 6. (бонус, 1 балл)**\n",
    "\n",
    "Реализуйте в классе DecisionTree поддержку параметров max_depth, min_samples_split и min_samples_leaf по аналогии с DecisionTreeClassifier. Постройте графики зависимости качества предсказания в зависимости от этих параметров для набора данных tic-tac-toe (см. следующее задание)."
   ]
  },
  {
   "cell_type": "markdown",
   "metadata": {
    "id": "_1Hl1_pZ5FJ2"
   },
   "source": [
    "### **Задание 7. (2 балла)**\n",
    "\n",
    "**1. Загрузите следующие наборы данных** (напомним, что pandas умеет загружать файлы по url, в нашем случае это файл \\*.data), предварительно ознакомившись с описанием признаков и целевой переменной в каждом из них (они записаны в Data Folder, в файле *.names):\n",
    "* [mushrooms](https://archive.ics.uci.edu/ml/datasets/Mushroom) (загрузили в предыдущем пункте, классы записаны в нулевом столбце),\n",
    "* [tic-tac-toe](https://archive.ics.uci.edu/ml/datasets/Tic-Tac-Toe+Endgame) (классы записаны в последнем столбце)\n",
    "* [cars](https://archive.ics.uci.edu/ml/datasets/Car+Evaluation) (классы записаны в последнем столбце, считаем что unacc, acc — это класс 0, good, vgood — класс 1)\n",
    "* [nursery](https://archive.ics.uci.edu/ml/datasets/Nursery) (классы записаны в последнем столбце, считаем, что not_recom и recommend — класс 0, very_recom, priority, spec_prior — класс 1).\n",
    "\n",
    "**2. Закодируйте категориальные признаки, использовав LabelEncoder.** С помощью cross_val_score (cv=10) оцените accuracy на каждом из этих наборов данных следующих алгоритмов:\n",
    "* DecisionTree, считающий все признаки вещественными\n",
    "* DecisionTree, считающий все признаки категориальными\n",
    "* DecisionTree, считающий все признаки вещественными + one-hot-encoding всех признаков\n",
    "* DecisionTreeClassifier из sklearn. Запишите результат в pd.DataFrame (по строкам — наборы данных, по столбцам — алгоритмы).\n",
    "\n",
    "**Рекомендации:**\n",
    "* Чтобы cross_val_score вычисляла точность, нужно передать scoring=make_scorer(accuracy_score), обе фукнции из sklearn.metrics.\n",
    "* Если вам позволяет память (а она скорее всего позволяет), указывайте параметр sparse=False в OneHotEncoder (если вы, конечно, используете его). Иначе вам придется добиваться того, чтобы ваша реализация дерева умела работать с разреженными матрицами."
   ]
  },
  {
   "cell_type": "code",
   "execution_count": null,
   "metadata": {
    "id": "kYZJkyGZ5FJ2"
   },
   "outputs": [],
   "source": [
    "# Ваш код здесьﾟ\n"
   ]
  },
  {
   "cell_type": "markdown",
   "metadata": {
    "id": "PhRoeENk5FJ2"
   },
   "source": [
    "### **Задание 8. (0.5 балла)**\n",
    "\n",
    "Проанализируйте результаты эксперимента. Ответьте на вопросы:\n",
    "- Одинаково ли для разных наборов данных ранжируются алгоритмы?\n",
    "Порассуждайте, почему так происходит.\n",
    "- Обратите внимание на значение признаков в разных наборах данных.\n",
    "Присутствует ли в результатах какая-то компонента случайности?\n",
    "- Если случайность есть, то можно ли повлиять на нее и улушить работу алгоритмов?"
   ]
  },
  {
   "cell_type": "markdown",
   "metadata": {
    "id": "fWfSVgpa5FJ2"
   },
   "source": [
    "**Ответ:**"
   ]
  },
  {
   "cell_type": "markdown",
   "source": [
    "# **2. Задача бинарной классификации реализованным деревом (4 балла)**\n",
    "\n",
    "Всего за эту часть можно получить 4 балла."
   ],
   "metadata": {
    "id": "TjGNljUAXLaE"
   }
  },
  {
   "cell_type": "markdown",
   "source": [
    "В этом разделе вам необходимо решить задачу бинарной классификации самописным деревом и лесом из sklearn, а после интерпретировать лучшие модели. А именно:\n",
    "\n",
    "- Извлечь данные из базы данных;\n",
    "- Предобработать датасет;\n",
    "- Обучить собственный класс DT и RF из `sklearn` в как базовом варианте (гиперпараметры по умолчанию), так и с подбором гиперпараметров;\n",
    "- Интерпретировать алгоритмы при помощи LIME или SHAP.\n"
   ],
   "metadata": {
    "id": "_Dgasg6EXea0"
   }
  },
  {
   "cell_type": "markdown",
   "source": [
    "### **Познакомимся с задачей: постановка**\n",
    "\n",
    "У вас есть данные о полетах, обладающие следущими характеристиками:\n",
    "- Для **каждого** клиента известна краткая информация о самом человеке, о типе билета и о рейсе, а также оценки клиента различным аспектам полета.\n",
    "- Для **некоторых** клиентов известна их удовлетворенность полетом (satisfied или neutral or dissatisfied).\n",
    "\n",
    "По данным необходимо обучить модель, предсказывающую удовлетворенность клиентов полетом. Итоговые предсказания нужно сделать для клиентов, **для которых ответ неизвестен.**\n",
    "\n",
    "### **Получение данных:**\n",
    "\n",
    "Компания держит все данные в облаке Яндекса в Postgresql. Данные разбиты на смысловые таблицы. Чтобы получить данные, вам необходимо подключиться к базе данных и добыть оттуда данные."
   ],
   "metadata": {
    "id": "zpJUszpKXtuR"
   }
  },
  {
   "cell_type": "code",
   "source": [
    "!mkdir -p ~/.postgresql && \\\n",
    "wget \"https://storage.yandexcloud.net/cloud-certs/CA.pem\" \\\n",
    "    --output-document ~/.postgresql/root.crt && \\\n",
    "chmod 0600 ~/.postgresql/root.crt"
   ],
   "metadata": {
    "id": "H_0jeg8S_mgM"
   },
   "execution_count": null,
   "outputs": []
  },
  {
   "cell_type": "markdown",
   "source": [
    "### **Задание 9. Получение данных (0.5 балла)**\n",
    "\n",
    "- Подключитесь к БД при помощи `psycopg2.connect()`\n",
    "- Напишите SQL-запрос, объединяющий 3 нужные таблицы в одну\n",
    "- Результат запроса поместите в `pd.DataFrame`. Индексом получившегося датафрейма сделайте столбец 'id'.\n",
    "\n",
    "Список столбцов таблиц добудьте самостоятельно.\n",
    "\n",
    "\n",
    "**Примечание:**\n",
    " Не забудьте закрыть соединение. Или открывайте соединение, используя менеджер контекста `with as`, который закроет его автоматически"
   ],
   "metadata": {
    "id": "L_XOtHwRX4u3"
   }
  },
  {
   "cell_type": "markdown",
   "source": [
    "##### **Параметры соединения:**\n",
    "```\n",
    "host=rc1b-70q90cunwkzx49mj.mdb.yandexcloud.net\n",
    "port=6432\n",
    "sslmode=verify-full\n",
    "dbname=db_flights\n",
    "user=mlhs_student\n",
    "password=mlhs_student\n",
    "target_session_attrs=read-write```\n",
    "```"
   ],
   "metadata": {
    "id": "mgQfdZjkX97C"
   }
  },
  {
   "cell_type": "markdown",
   "source": [
    "##### **Схема БД**\n",
    "\n",
    "<img src=\"data:image/png;base64,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\" alt=\"screens\" width=\"600\"/>"
   ],
   "metadata": {
    "id": "2sbC6WiSX-Q5"
   }
  },
  {
   "cell_type": "code",
   "source": [
    "# Ваш код здесь"
   ],
   "metadata": {
    "id": "EMEc3XBoX9SG"
   },
   "execution_count": null,
   "outputs": []
  },
  {
   "cell_type": "code",
   "source": [
    "assert df.shape == (129_549, 23)"
   ],
   "metadata": {
    "id": "dfoU7iiWXpJG"
   },
   "execution_count": null,
   "outputs": []
  },
  {
   "cell_type": "markdown",
   "source": [
    "Разобьем датасет на тренировочную и тестовую части. Тестовую часть отложим надолго -- до самого конца этого ноутбука."
   ],
   "metadata": {
    "id": "Hh4UpPPmYfno"
   }
  },
  {
   "cell_type": "code",
   "source": [
    "df_train = df[df.satisfaction != '-']\n",
    "\n",
    "df_train.head()"
   ],
   "metadata": {
    "id": "x2Gt_JYqYlIG"
   },
   "execution_count": null,
   "outputs": []
  },
  {
   "cell_type": "code",
   "source": [
    "assert df_train.shape == (103_644, 23)"
   ],
   "metadata": {
    "id": "C4cILgQIYsjJ"
   },
   "execution_count": null,
   "outputs": []
  },
  {
   "cell_type": "code",
   "source": [
    "df_test = df[df.satisfaction == '-'].drop('satisfaction', axis=1)\n",
    "df_test.head()"
   ],
   "metadata": {
    "id": "fIgaae8eYnVd"
   },
   "execution_count": null,
   "outputs": []
  },
  {
   "cell_type": "code",
   "source": [
    "assert df_test.shape == (25_905, 22)"
   ],
   "metadata": {
    "id": "27GMRFLxYto9"
   },
   "execution_count": null,
   "outputs": []
  },
  {
   "cell_type": "markdown",
   "source": [
    "Разбиваем данные на трейн и валидацию. Не меняйте сид."
   ],
   "metadata": {
    "id": "A2dJPUeHYwJY"
   }
  },
  {
   "cell_type": "code",
   "source": [
    "X_train, X_val, y_train, y_val = train_test_split(df_train.drop('satisfaction', axis=1), df_train.satisfaction, test_size=0.3, random_state=42)"
   ],
   "metadata": {
    "id": "FkJ0UZNXYvZv"
   },
   "execution_count": null,
   "outputs": []
  },
  {
   "cell_type": "code",
   "source": [
    "assert X_train.shape == (72_550, 22)\n",
    "assert X_val.shape == (31_094, 22)"
   ],
   "metadata": {
    "id": "6kswi5PxY11V"
   },
   "execution_count": null,
   "outputs": []
  },
  {
   "cell_type": "markdown",
   "source": [
    "### **Задание 10 (0.25 балла)**\n",
    "\n",
    "- Преобразуйте числовые столбцы в `float`. Проверьте, есть ли в датафрейме пропуски и выбросы (в том числе в категориальных признаках)\n",
    "- Заполните пропуски в данных наиболее часто встречающимся значением.\n",
    "Помните про правильность заполнения.\n",
    "- Выведите основные статистики по числовым и категориальным столбцам таблицы\n",
    "- Сделайте **текстовый** вывод о распределениях значений признаков"
   ],
   "metadata": {
    "id": "rfiWv5w1YUDz"
   }
  },
  {
   "cell_type": "code",
   "source": [
    "# Ваш код здесь"
   ],
   "metadata": {
    "id": "C3qnAA8BYek1"
   },
   "execution_count": null,
   "outputs": []
  },
  {
   "cell_type": "markdown",
   "source": [
    "`Ваш ответ здесь`"
   ],
   "metadata": {
    "id": "d16MrzQyZpv_"
   }
  },
  {
   "cell_type": "markdown",
   "source": [
    "### **Задание 11. (2 балла)**\n",
    "\n",
    "Осуществите предобработку датасета для обучения **полностью самостоятельно**, на основе вашего опыта из прошлых дз и изученной теории. Обязательно **комментируйте** каждое действие.\n",
    "\n",
    "**Примечание:**\n",
    "\n",
    "В данном задании ваша задача в том числе убедить ревьюера в достаточности предобработки."
   ],
   "metadata": {
    "id": "xA5ntCu3ZMRW"
   }
  },
  {
   "cell_type": "code",
   "source": [
    "# Ваш код здесь"
   ],
   "metadata": {
    "id": "KiGKQcRQZnbf"
   },
   "execution_count": null,
   "outputs": []
  },
  {
   "cell_type": "markdown",
   "source": [
    "### **Задание 12. (0.25 балла)**\n",
    "\n",
    "- Обучите самописное дерево и Random Forest с базовыми гиперпараметрами. Выведите `f1-score`."
   ],
   "metadata": {
    "id": "vSZvfKTdZsvx"
   }
  },
  {
   "cell_type": "code",
   "source": [
    "# Ваш код здесь"
   ],
   "metadata": {
    "id": "ckLN7yNUZ4ZG"
   },
   "execution_count": null,
   "outputs": []
  },
  {
   "cell_type": "markdown",
   "source": [
    "### **Задание 13. (0.4 баллa)**\n",
    "\n",
    "- Попробуйте подобрать оптимальные гиперпараметры леса и дерева (если реализовали их в бонусе), используя [RandomizedSearchCV](https://scikit-learn.org/stable/modules/generated/sklearn.model_selection.RandomizedSearchCV.html).\n",
    "- Сравните качество полученных моделей и выберите лучшую. Лучшую модель сохраните в pickle.\n",
    "\n",
    "**Важно:**  \n",
    "\n",
    "Хотя бы один из гиперпараметров перебирайте из распределения (например, `uniform` из `scipy.stats`)"
   ],
   "metadata": {
    "id": "uzNSSq3DaJY6"
   }
  },
  {
   "cell_type": "code",
   "source": [
    "# Ваш код здесь"
   ],
   "metadata": {
    "id": "y_TDDN9taPBc"
   },
   "execution_count": null,
   "outputs": []
  },
  {
   "cell_type": "markdown",
   "source": [
    "### **Задание 14. Анализ моделей (0.1 балла)**\n",
    "\n",
    "- Отобразите`feature_importances_` вашего лучшего случайного леса;\n",
    "- Проанализируйте, какие признаки оказались важными?"
   ],
   "metadata": {
    "id": "hvogFFeLaPqv"
   }
  },
  {
   "cell_type": "code",
   "source": [
    "# Ваш код здесь"
   ],
   "metadata": {
    "id": "kKxLkVeOaf3T"
   },
   "execution_count": null,
   "outputs": []
  },
  {
   "cell_type": "markdown",
   "source": [
    "`Ваш ответ здесь. `"
   ],
   "metadata": {
    "id": "0PXRXSyWahMX"
   }
  },
  {
   "cell_type": "markdown",
   "source": [
    "### **Задание 15. (0.25 балла)**\n",
    "- Интерпретируйте важности признаков с помощью SHAP.\n",
    "- Опишите полученый график\n",
    "\n",
    "**Важно:** Для подсчета используйте 1000 случайных объектов, иначе не дождетесь за приемлемое время\n",
    "\n",
    "**Вам может помочь:** [Статья \"Интерпретация моделей и диагностика сдвига данных: LIME, SHAP и Shapley Flow\"](https://habr.com/ru/company/ods/blog/599573/) из блога ods.ai на Хабре"
   ],
   "metadata": {
    "id": "MCY7rCLwalU6"
   }
  },
  {
   "cell_type": "code",
   "source": [
    "# Ваш код здесь"
   ],
   "metadata": {
    "id": "SJGNRoKRanrx"
   },
   "execution_count": null,
   "outputs": []
  },
  {
   "cell_type": "markdown",
   "source": [
    "`Ваш ответ здесь. `"
   ],
   "metadata": {
    "id": "N2F1JSGEayBu"
   }
  },
  {
   "cell_type": "markdown",
   "source": [
    "### **Задание 16. (0.25 балла)**\n",
    "\n",
    "- Интерпретируйте важности признаков для одного прогноза с помощью LIME;\n",
    "- Опишите полученный график для выбранного наблюдения"
   ],
   "metadata": {
    "id": "uh0d9Vtiaoro"
   }
  },
  {
   "cell_type": "code",
   "source": [
    "# Ваш код здесь"
   ],
   "metadata": {
    "id": "00JsHIiqav-r"
   },
   "execution_count": null,
   "outputs": []
  },
  {
   "cell_type": "markdown",
   "source": [
    "`Ваш ответ здесь. `"
   ],
   "metadata": {
    "id": "gSvRj2Yqau0g"
   }
  },
  {
   "cell_type": "markdown",
   "source": [
    "## Котобонус!\n",
    "\n",
    "0.25 балла"
   ],
   "metadata": {
    "id": "rLFoCP8Y6YA6"
   }
  },
  {
   "cell_type": "markdown",
   "source": [
    "![photo_2025-01-07 11.34.49-2.jpeg](data:image/jpeg;base64,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)"
   ],
   "metadata": {
    "id": "7mAa67JN6ao-"
   }
  },
  {
   "cell_type": "markdown",
   "metadata": {
    "id": "3tcSfKchhY2M"
   },
   "source": [
    "# Обратная связь\n",
    "\n",
    "Расскажите, как вам это домашнее задание. Было ли оно полезным? Научились ли вы чему то? Насколько сложным по 10-балльной шкале оно вам показалось? Сколько времени у вас ушло на его выполнение? Что следовало ещё в него включить? Было ли что-то лишнее?"
   ]
  },
  {
   "cell_type": "code",
   "execution_count": null,
   "metadata": {
    "id": "EyUovjCJhtCa"
   },
   "outputs": [],
   "source": []
  }
 ],
 "metadata": {
  "kernelspec": {
   "display_name": "Python 3",
   "language": "python",
   "name": "python3"
  },
  "language_info": {
   "codemirror_mode": {
    "name": "ipython",
    "version": 3
   },
   "file_extension": ".py",
   "mimetype": "text/x-python",
   "name": "python",
   "nbconvert_exporter": "python",
   "pygments_lexer": "ipython3",
   "version": "3.6.6"
  },
  "toc": {
   "base_numbering": 1,
   "nav_menu": {},
   "number_sections": true,
   "sideBar": true,
   "skip_h1_title": false,
   "title_cell": "Table of Contents",
   "title_sidebar": "Contents",
   "toc_cell": false,
   "toc_position": {},
   "toc_section_display": true,
   "toc_window_display": false
  },
  "colab": {
   "provenance": [],
   "include_colab_link": true
  }
 },
 "nbformat": 4,
 "nbformat_minor": 0
}
